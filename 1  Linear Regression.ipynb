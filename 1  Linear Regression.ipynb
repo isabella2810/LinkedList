{
 "cells": [
  {
   "cell_type": "code",
   "execution_count": 1,
   "metadata": {
    "collapsed": true
   },
   "outputs": [],
   "source": [
    "import matplotlib.pyplot as plt\n",
    "import tensorflow as tf\n",
    "import numpy as np\n",
    "import math"
   ]
  },
  {
   "cell_type": "code",
   "execution_count": 99,
   "metadata": {
    "collapsed": true
   },
   "outputs": [],
   "source": [
    "# Epoch means passing over the whole training dataset once\n",
    "# one epoch is 7 mini-batches for B=500\n",
    "# Implement linear regression and SGD\n",
    "\n",
    "dimension         = 28 * 28  # Size of the image\n",
    "\n",
    "wd_coef           = 0       # weight decay coefficient\n",
    "learningRate      = 0.005\n",
    "numIteration      = 20000   # iteration is an SGD update through the entire pass of one mini-batch\n",
    "numTrainingSet    = 3500\n",
    "batchSize         = 500     # size of mini-batch, size of data going into GradientDescentOptimizer\n",
    "\n",
    "# Load the Data\n",
    "with np.load(\"notMNIST.npz\") as data:\n",
    "    Data, Target = data[\"images\"], data[\"labels\"]\n",
    "    posClass = 2\n",
    "    negClass = 9\n",
    "    dataIndx = (Target==posClass) + (Target==negClass)\n",
    "    Data = Data[dataIndx]/255.\n",
    "    Target = Target[dataIndx].reshape(-1, 1)\n",
    "    Target[Target==posClass] = 1\n",
    "    Target[Target==negClass] = 0\n",
    "    \n",
    "    np.random.seed(521)\n",
    "    randIndx = np.arange(len(Data))\n",
    "    np.random.shuffle(randIndx)\n",
    "    \n",
    "    Data, Target = Data[randIndx], Target[randIndx]\n",
    "    Data = Data.reshape(-1, dimension)\n",
    "    trainData, trainTarget = Data[:3500], Target[:3500]\n",
    "    validData, validTarget = Data[3500:3600], Target[3500:3600]\n",
    "    testData, testTarget = Data[3600:], Target[3600:]\n"
   ]
  },
  {
   "cell_type": "code",
   "execution_count": 100,
   "metadata": {
    "collapsed": true
   },
   "outputs": [],
   "source": [
    "# Variable creation\n",
    "W = tf.Variable(tf.truncated_normal(shape=[dimension,1], stddev=0.5, name='weights'))\n",
    "b = tf.Variable(0.0, name='bias')\n",
    "X = tf.placeholder(tf.float32, [None, dimension], name='input_x')\n",
    "y_target = tf.placeholder(tf.float32, [None, 1], name='target_y')"
   ]
  },
  {
   "cell_type": "code",
   "execution_count": 101,
   "metadata": {
    "collapsed": true
   },
   "outputs": [],
   "source": [
    "def buildGraph(wdCoef, learningRate):\n",
    "    # Graph definition\n",
    "    y_predicted = tf.matmul(X, W) + b\n",
    "\n",
    "    # Error definition\n",
    "    MSELoss = tf.reduce_mean(tf.reduce_sum(tf.square(y_predicted - y_target), \n",
    "                                                   reduction_indices=1, \n",
    "                                                   name='mean_squared_error'),\n",
    "                                     name='mean_square_error')\n",
    "    WDLoss = wdCoef * tf.reduce_sum(tf.square(W))\n",
    "    totalLoss = (MSELoss + WDLoss)/2\n",
    "    \n",
    "    # Training mechanism\n",
    "    optimizer = tf.train.GradientDescentOptimizer(learning_rate = learningRate)\n",
    "    train = optimizer.minimize(loss=totalLoss)\n",
    "    \n",
    "    return y_predicted, MSELoss, WDLoss, totalLoss, train\n"
   ]
  },
  {
   "cell_type": "code",
   "execution_count": 102,
   "metadata": {
    "collapsed": true,
    "scrolled": true
   },
   "outputs": [],
   "source": [
    "def runFullIteration(weightDecayCoef, learningRate, batchSize):\n",
    "    numBatches        = int(numTrainingSet/batchSize)\n",
    "    numEpoch          = int(math.ceil(numIteration/numBatches))\n",
    "    \n",
    "    y_predicted, MSELoss, WDLoss, totalLoss, train = buildGraph(weightDecayCoef, learningRate)\n",
    "    \n",
    "    # Initialize session    \n",
    "    init = tf.global_variables_initializer()\n",
    "    sess = tf.InteractiveSession()\n",
    "    sess.run(init)\n",
    "\n",
    "    # Train for numIteration amount\n",
    "    iteration = 0\n",
    "    lossMSEList = []\n",
    "    lossTotalList = []\n",
    "    for epochIdx in range(numEpoch):\n",
    "        # Randomly permute the order of training examples\n",
    "        randIdx = np.arange(numTrainingSet)\n",
    "        np.random.shuffle(randIdx)\n",
    "\n",
    "        # Mini-batching over entire dataset\n",
    "        lossMSE, lossTotal = 0, 0\n",
    "        \n",
    "        for batchIdx in range(numBatches):\n",
    "            ridx_start = batchIdx * batchSize\n",
    "            ridx_end = int(batchIdx+1) * batchSize\n",
    "\n",
    "            _, lossMSE, lossTotal, currentW, currentb, yhat = sess.run([train, MSELoss, totalLoss, W, b, y_predicted],\n",
    "                                                        feed_dict={X: trainData[randIdx[ridx_start:ridx_end],:],\n",
    "                                                                   y_target: trainTarget[randIdx[ridx_start:ridx_end]]\n",
    "                                                                  }\n",
    "                                                       )\n",
    "        \n",
    "        lossMSEList.append(lossMSE)\n",
    "        lossTotalList.append(lossTotal)\n",
    "    \n",
    "    return lossTotalList, lossMSEList, totalLoss, sess, y_predicted"
   ]
  },
  {
   "cell_type": "code",
   "execution_count": 8,
   "metadata": {},
   "outputs": [],
   "source": [
    "import time\n",
    "\n",
    "def runFullIterationTimed(weightDecayCoef, learningRate, batchSize):\n",
    "    numBatches        = int(numTrainingSet/batchSize)\n",
    "    numEpoch          = int(math.ceil(numIteration/numBatches))\n",
    "    \n",
    "    y_predicted, MSELoss, WDLoss, totalLoss, train = buildGraph(weightDecayCoef, learningRate)\n",
    "    \n",
    "    # Initialize session    \n",
    "    init = tf.global_variables_initializer()\n",
    "    sess = tf.InteractiveSession()\n",
    "    sess.run(init)\n",
    "\n",
    "    # Train for numIteration amount\n",
    "    iteration = 0\n",
    "    lossMSEList = []\n",
    "    lossTotalList = []\n",
    "    timeList = []\n",
    "    printed = False\n",
    "    startTime = time.time()\n",
    "    for epochIdx in range(numEpoch):\n",
    "        # Randomly permute the order of training examples\n",
    "        randIdx = np.arange(numTrainingSet)\n",
    "        np.random.shuffle(randIdx)\n",
    "\n",
    "        # Mini-batching over entire dataset\n",
    "        lossMSE, lossTotal = 0, 0\n",
    "        \n",
    "        for batchIdx in range(numBatches):\n",
    "            ridx_start = batchIdx * batchSize\n",
    "            ridx_end = int(batchIdx+1) * batchSize\n",
    "\n",
    "            _, lossMSE, lossTotal, currentW, currentb, yhat = sess.run([train, MSELoss, totalLoss, W, b, y_predicted],\n",
    "                                                        feed_dict={X: trainData[randIdx[ridx_start:ridx_end],:],\n",
    "                                                                   y_target: trainTarget[randIdx[ridx_start:ridx_end]]\n",
    "                                                                  }\n",
    "                                                       )\n",
    "        \n",
    "            lossMSEList.append(lossMSE)\n",
    "            lossTotalList.append(lossTotal)\n",
    "            timeList.append(time.time() - startTime)\n",
    "    \n",
    "    return lossTotalList, lossMSEList, totalLoss, sess, timeList"
   ]
  },
  {
   "cell_type": "markdown",
   "metadata": {},
   "source": [
    "1.1 Tuning the learning rate\n",
    "======\n",
    "Write a Tensorflow script that implements linear regression and the stochastic gradient descent algorithm with mini-batch size B = 500. Train the linear regression model on the\n",
    "two-class notMNIST dataset by using SGD to optimize the total loss L. Set the weight\n",
    "decay coefficient λ = 0 and use 20000 iterations (one iteration is an SGD update through\n",
    "the entire pass of one mini-batch). Plot the training loss function vs number of epochs for\n",
    "learning rate η = f0:005; 0:001; 0:0001g on the same plot (epoch means passing over the\n",
    "whole training dataset once, i.e., one epoch = 7 mini-batches for B = 500). Choose the best\n",
    "learning rate found and discuss the effect of the learning rate value on training convergence"
   ]
  },
  {
   "cell_type": "code",
   "execution_count": 18,
   "metadata": {
    "collapsed": true
   },
   "outputs": [],
   "source": [
    "# 1. Tuning the learning rate\n",
    "wd_coef           = 0       # weight decay coefficient\n",
    "learningRateList  = (0.005, 0.001, 0.0001)\n",
    "\n",
    "numIteration      = 20000   # iteration is an SGD update through the entire pass of one mini-batch\n",
    "numTrainingSet    = 3500\n",
    "batchSize         = 500     # size of mini-batch, size of data going into GradientDescentOptimizer\n",
    "\n",
    "resultList1 = []"
   ]
  },
  {
   "cell_type": "code",
   "execution_count": 19,
   "metadata": {},
   "outputs": [
    {
     "name": "stdout",
     "output_type": "stream",
     "text": [
      "Done 0.005\n",
      "Done 0.001\n",
      "Done 0.0001\n"
     ]
    }
   ],
   "source": [
    "for rate in learningRateList:\n",
    "    totalLossList, _, _, _, _= runFullIteration(wd_coef, rate, batchSize)\n",
    "    resultList1.append(totalLossList)\n",
    "    print(\"Done\", rate)"
   ]
  },
  {
   "cell_type": "code",
   "execution_count": 20,
   "metadata": {
    "scrolled": false
   },
   "outputs": [
    {
     "data": {
      "image/png": "[encoded data removed]",
      "text/plain": [
       "<matplotlib.figure.Figure at 0x21af07c9b00>"
      ]
     },
     "metadata": {},
     "output_type": "display_data"
    }
   ],
   "source": [
    "fig = plt.figure()\n",
    "xRange = np.arange(1, len(resultList1[0])+1)\n",
    "\n",
    "plt.plot(xRange, resultList1[2], 'y-', label='Learning rate %.4f' % (learningRateList[2]))\n",
    "plt.plot(xRange, resultList1[1], 'b-', label='Learning rate %.4f' % (learningRateList[1]))\n",
    "plt.plot(xRange, resultList1[0], 'r-', label='Learning rate %.4f' % (learningRateList[0]))\n",
    "plt.ylim((0, 10)) \n",
    "plt.xlabel('Number of Epochs')\n",
    "plt.ylabel('Training Total Loss')\n",
    "plt.legend()\n",
    "plt.show()"
   ]
  },
  {
   "cell_type": "markdown",
   "metadata": {},
   "source": [
    "1.2 Effect of the mini-batch size\n",
    "=====\n",
    "Run the SGD algorithm with B = f500; 1500; 3500g with the learning rate chosen from point\n",
    "1, λ = 0, and 20000 iterations. Report the final training MSE for each mini-batch value.\n",
    "What is the best mini-batch size in terms of training time? Comment on your observation."
   ]
  },
  {
   "cell_type": "code",
   "execution_count": 9,
   "metadata": {
    "collapsed": true
   },
   "outputs": [],
   "source": [
    "wd_coef           = 0       # weight decay coefficient\n",
    "learningRate      = 0.005\n",
    "\n",
    "numIteration      = 20000   # iteration is an SGD update through the entire pass of one mini-batch\n",
    "numTrainingSet    = 3500\n",
    "batchSizeList     = (500, 1500, 3500)     # size of mini-batch, size of data going into GradientDescentOptimizer\n",
    "\n",
    "resultList2 = []\n",
    "resultList2_time = []"
   ]
  },
  {
   "cell_type": "code",
   "execution_count": 10,
   "metadata": {},
   "outputs": [
    {
     "name": "stdout",
     "output_type": "stream",
     "text": [
      "Done 500\n",
      "Done 1500\n",
      "Done 3500\n"
     ]
    }
   ],
   "source": [
    "for batchSize in batchSizeList:\n",
    "    _ , lossMSEList, _, _,timeList = runFullIterationTimed(wd_coef, learningRate, batchSize)\n",
    "    resultList2.append(lossMSEList)\n",
    "    resultList2_time.append(timeList)\n",
    "    print(\"Done\", batchSize)"
   ]
  },
  {
   "cell_type": "code",
   "execution_count": 22,
   "metadata": {
    "scrolled": true
   },
   "outputs": [
    {
     "name": "stdout",
     "output_type": "stream",
     "text": [
      " 500 batch size has final training MSE of 0.164107\n",
      "1500 batch size has final training MSE of 0.148685\n",
      "3500 batch size has final training MSE of 0.132362\n"
     ]
    },
    {
     "data": {
      "image/png": "[encoded data removed]",
      "text/plain": [
       "<matplotlib.figure.Figure at 0x21aef3de240>"
      ]
     },
     "metadata": {},
     "output_type": "display_data"
    },
    {
     "name": "stdout",
     "output_type": "stream",
     "text": [
      "Note we have used CPU: Intel i5-5300U, Memory 8GB\n"
     ]
    }
   ],
   "source": [
    "for i in range(len(batchSizeList)):\n",
    "    print(\"%4d batch size has final training MSE of %f\" % (batchSizeList[i], resultList2[i][-1]))\n",
    "\n",
    "fig = plt.figure()\n",
    "\n",
    "xRangeList = []\n",
    "for i in range(len(batchSizeList)):\n",
    "    xRangeList.append(range(len(resultList2[i])))\n",
    "    \n",
    "plt.plot(resultList2_time[0], resultList2[0], 'r-', label='Batch Size %d' % (batchSizeList[0]))\n",
    "plt.plot(resultList2_time[1], resultList2[1], 'b-', label='Batch Size %d' % (batchSizeList[1]))\n",
    "plt.plot(resultList2_time[2], resultList2[2], 'y-', label='Batch Size %d' % (batchSizeList[2]))\n",
    "plt.ylim((0, 5)) \n",
    "plt.xlabel('Time in second')\n",
    "plt.ylabel('MSE train loss')\n",
    "plt.legend()\n",
    "plt.show()\n",
    "\n",
    "print (\"Note we have used CPU: Intel i5-5300U, Memory 8GB\")"
   ]
  },
  {
   "cell_type": "markdown",
   "metadata": {},
   "source": [
    "1.3 Generalization\n",
    "====\n",
    "Run SGD with mini-batch size B = 500, learning rate η = 0:005, and 20000 iterations to\n",
    "choose the best weight decay coefficient that gives the best classification accuracy on the\n",
    "validation set from λ = f0:; 0:001; 0:1; 1g. Report the validation set accuracy for different\n",
    "values of λ. Report the best λ based on the validation accuracy, what is the test accuracy\n",
    "for this λ? Comment on the effect of weight-decay regularization on the model performance.\n",
    "Also, comment on why we need to tune the hyper-parameter λ using a validation set instead\n",
    "of the training set."
   ]
  },
  {
   "cell_type": "code",
   "execution_count": 103,
   "metadata": {
    "collapsed": true
   },
   "outputs": [],
   "source": [
    "# validation set accuracy\n",
    "wd_coef_list      = [0., 0.001, 0.1, 1.]\n",
    "learningRate      = 0.005\n",
    "\n",
    "numIteration      = 20000   # iteration is an SGD update through the entire pass of one mini-batch\n",
    "numTrainingSet    = 3500\n",
    "batchSize         = 500\n",
    "\n",
    "# Total loss on training set\n",
    "resultList3 = []\n",
    "\n",
    "# Total loss on validation and testing\n",
    "validLossList = []\n",
    "testLossList = []\n",
    "\n",
    "# Predicted values on validation and testing\n",
    "validPredList = []\n",
    "testPredList = []"
   ]
  },
  {
   "cell_type": "code",
   "execution_count": 104,
   "metadata": {},
   "outputs": [
    {
     "name": "stdout",
     "output_type": "stream",
     "text": [
      "Done 0.0\n",
      "Done 0.001\n",
      "Done 0.1\n",
      "Done 1.0\n"
     ]
    }
   ],
   "source": [
    "for wd_coef in wd_coef_list:\n",
    "    lossTotalList, finalMSELoss, totalLossHandle, sess, y_pred_h = runFullIteration(wd_coef, learningRate, batchSize)\n",
    "    validResult, validPred = sess.run([totalLossHandle, y_pred_h], feed_dict={X: validData, y_target: validTarget})\n",
    "    testResult, testPred = sess.run([totalLossHandle, y_pred_h], feed_dict={X: testData, y_target: testTarget})\n",
    "\n",
    "    # Total loss on training set\n",
    "    resultList3.append(lossTotalList)\n",
    "\n",
    "    # Total loss on validation and testing\n",
    "    validLossList.append(validResult)\n",
    "    testLossList.append(testResult)\n",
    "    \n",
    "    # Predicted values on validation and testing\n",
    "    validPredList.append(validPred)\n",
    "    testPredList.append(testPred)\n",
    "    \n",
    "    print(\"Done\", wd_coef)"
   ]
  },
  {
   "cell_type": "code",
   "execution_count": 105,
   "metadata": {},
   "outputs": [
    {
     "data": {
      "text/plain": [
       "<matplotlib.figure.Figure at 0x21af36d1898>"
      ]
     },
     "metadata": {},
     "output_type": "display_data"
    },
    {
     "data": {
      "image/png": "[encoded data removed]",
      "text/plain": [
       "<matplotlib.figure.Figure at 0x21af12387f0>"
      ]
     },
     "metadata": {},
     "output_type": "display_data"
    },
    {
     "name": "stdout",
     "output_type": "stream",
     "text": [
      "0.0000 Weight Decay Coefficient, validation total loss: 0.096419, test total loss: 0.125413\n",
      "0.0010 Weight Decay Coefficient, validation total loss: 0.162092, test total loss: 0.107375\n",
      "0.1000 Weight Decay Coefficient, validation total loss: 0.017119, test total loss: 0.018610\n",
      "1.0000 Weight Decay Coefficient, validation total loss: 0.023110, test total loss: 0.022365\n"
     ]
    }
   ],
   "source": [
    "fig = plt.figure()\n",
    "xRange = np.arange(1, len(resultList3[0])+1)\n",
    "plt.plot(xRange, resultList3[0], 'r-', label='Weight Decay Coefficient %.3f' % (wd_coef_list[0]))\n",
    "plt.plot(xRange, resultList3[1], 'b-', label='Weight Decay Coefficient %.3f' % (wd_coef_list[1]))\n",
    "plt.plot(xRange, resultList3[2], 'y-', label='Weight Decay Coefficient %.3f' % (wd_coef_list[2]))\n",
    "plt.plot(xRange, resultList3[3], 'k-', label='Weight Decay Coefficient %.3f' % (wd_coef_list[3]))\n",
    "\n",
    "plt.xlabel('Number of Epoch')\n",
    "plt.ylabel('Total Loss')\n",
    "plt.ylim((0, 0.2)) \n",
    "plt.legend()\n",
    "plt.show()\n",
    "\n",
    "fig = plt.figure()\n",
    "\n",
    "for idx in range(len(wd_coef_list)):\n",
    "    print(\"%.4f Weight Decay Coefficient, validation total loss: %f, test total loss: %f\" % (wd_coef_list[idx], validLossList[idx], testLossList[idx]))\n"
   ]
  },
  {
   "cell_type": "code",
   "execution_count": 107,
   "metadata": {},
   "outputs": [
    {
     "name": "stdout",
     "output_type": "stream",
     "text": [
      "0.0000 Weight Decay Coefficient, validation accuracy: 0.870000, test accuracy: 0.882759\n",
      "0.0010 Weight Decay Coefficient, validation accuracy: 0.870000, test accuracy: 0.910345\n",
      "0.1000 Weight Decay Coefficient, validation accuracy: 0.980000, test accuracy: 0.972414\n",
      "1.0000 Weight Decay Coefficient, validation accuracy: 0.970000, test accuracy: 0.965517\n"
     ]
    }
   ],
   "source": [
    "# Report the validation set accuracy for different values of lambda\n",
    "# Report the best lambda based on the validation accuracy\n",
    "# What is the test accuracy on this lambda\n",
    "\n",
    "def classifyList(predList):\n",
    "    classList = []\n",
    "    for flt in predList:\n",
    "        if (flt < 0.5):\n",
    "            classList.append(0)\n",
    "        else:\n",
    "            classList.append(1)\n",
    "    return classList\n",
    "\n",
    "def calculateAccuracy(list1, list2):\n",
    "    numCorrect = 0\n",
    "    assert (len(list1) == len(list2))\n",
    "    \n",
    "    for idx in range(len(list1)):\n",
    "        if (list1[idx] == list2[idx]):\n",
    "            numCorrect += 1\n",
    "        \n",
    "    return (numCorrect/len(list1))\n",
    "\n",
    "validTargetList = validTarget.reshape(-1)\n",
    "testTargetList = testTarget.reshape(-1)\n",
    "\n",
    "for idx in range(len(wd_coef_list)):    \n",
    "    print(\"%.4f Weight Decay Coefficient, validation accuracy: %f, test accuracy: %f\" \n",
    "          % (wd_coef_list[idx],\n",
    "             calculateAccuracy(validTargetList, classifyList(validPredList[idx])), \n",
    "             calculateAccuracy(testTargetList, classifyList(testPredList[idx]))))"
   ]
  },
  {
   "cell_type": "code",
   "execution_count": null,
   "metadata": {
    "collapsed": true
   },
   "outputs": [],
   "source": [
    "# Comment on the effect of weight-decay regularization on the model performance. \n",
    "# Also, comment on why we need to tune the hyper-parameter λ using a validation set instead of the training set."
   ]
  },
  {
   "cell_type": "markdown",
   "metadata": {},
   "source": [
    "1.4 Comparing SGD with normal equation\n",
    "===\n",
    "For linear regression, you can find the optimum weights using the closed form equation for\n",
    "the derivative of the means square error (normal equation). For zero weight decay, Write a\n",
    "TensorFlow script to find the optimal linear regression weights on the two-class notMNIST\n",
    "dataset using the \\normal equation\" of the least squares formula. Compare in terms of final\n",
    "training MSE, accuracy and computation time between SGD and normal equation. Also,\n",
    "discuss when SGD is more practical than using normal equation"
   ]
  },
  {
   "cell_type": "code",
   "execution_count": 159,
   "metadata": {},
   "outputs": [],
   "source": [
    "# Compare final training MSE, accuracy, computation time of SGD vs. normal equation\n",
    "# Discuss when SGD is more practical than using normal equation\n",
    "\n",
    "# Find W\n",
    "def calculateLeastSquareW():\n",
    "    sess4 = tf.Session()\n",
    "    X_hat = np.insert(trainData, 0, 1, axis=1)\n",
    "    XTX_inv = tf.matrix_inverse((tf.matmul(X_hat, X_hat, transpose_a=True)))\n",
    "    XTX_inv_XT = tf.matmul(XTX_inv, X_hat, transpose_b=True)\n",
    "    W_ls = tf.matmul(XTX_inv_XT, tf.cast(trainTarget, tf.float64))\n",
    "    return sess4.run(W_ls)\n",
    "\n",
    "def buildGraphLeastSquare():\n",
    "    W = tf.placeholder(tf.float32, [dimension+1, 1], name='weights_ls')\n",
    "    X = tf.placeholder(tf.float32, [None, dimension+1], name='input_x')\n",
    "    y_target = tf.placeholder(tf.float32, [None, 1], name='target_y')\n",
    "    \n",
    "    # Graph definition\n",
    "    y_predicted = tf.matmul(X, W)\n",
    "    \n",
    "    # Error definition\n",
    "    MSELoss = tf.reduce_mean(tf.reduce_sum(tf.square(y_predicted - y_target), \n",
    "                                                   reduction_indices=1, \n",
    "                                                   name='mean_squared_error'),\n",
    "                                     name='mean_square_error')\n",
    "\n",
    "    return W, X, y_target, y_predicted, MSELoss\n"
   ]
  },
  {
   "cell_type": "code",
   "execution_count": 160,
   "metadata": {
    "collapsed": true
   },
   "outputs": [],
   "source": [
    "def evaluateLeastSquare():\n",
    "    sess5 = tf.Session()\n",
    "\n",
    "    calculatedW = calculateLeastSquareW()\n",
    "    W, X, y_target, y_predicted, MSELoss = buildGraphLeastSquare()\n",
    "\n",
    "    finalTrainMSELoss = sess5.run(MSELoss, feed_dict={W:calculatedW, \n",
    "                                                      X:np.insert(trainData, 0, 1, axis=1),\n",
    "                                                      y_target:trainTarget})\n",
    "\n",
    "    predictedValidY = sess5.run(y_predicted, feed_dict={W:calculatedW, \n",
    "                                                        X:np.insert(validData, 0, 1, axis=1),\n",
    "                                                        y_target:trainTarget})\n",
    "\n",
    "\n",
    "    predictedTestY = sess5.run(y_predicted, feed_dict={W:calculatedW, \n",
    "                                                       X:np.insert(testData, 0, 1, axis=1),\n",
    "                                                       y_target:trainTarget})\n",
    "\n",
    "    \n",
    "    return finalTrainMSELoss, predictedValidY, predictedTestY\n",
    "#     finalTrainMSELoss = sess4.run(MSELoss, feed_dict={W:W_ls_calculated, X:X_hat, y_target:trainTarget})\n",
    "#     validLoss = sess4.run(MSELoss, feed_dict={W:W_ls_calculated, X:np.insert(validData, 0, 1, axis=1), y_target:validTarget})\n",
    "#     testLoss = sess4.run(MSELoss, feed_dict={W:W_ls_calculated, X:np.insert(testData, 0, 1, axis=1), y_target:testTarget})\n",
    "\n",
    "finalTrainMSELoss, predictedValidY, predictedTestY = evaluateLeastSquare()"
   ]
  },
  {
   "cell_type": "code",
   "execution_count": 162,
   "metadata": {},
   "outputs": [
    {
     "name": "stdout",
     "output_type": "stream",
     "text": [
      "Least Square Final Training MSE loss is 0.0188\n",
      "Least Square, validation accuracy: 0.970000, test accuracy: 0.958621\n"
     ]
    }
   ],
   "source": [
    "print(\"Least Square Final Training MSE loss is %.4f\" %(finalTrainMSELoss))\n",
    "\n",
    "validTargetList = validTarget.reshape(-1)\n",
    "testTargetList = testTarget.reshape(-1)\n",
    "\n",
    "print(\"Least Square, validation accuracy: %f, test accuracy: %f\" \n",
    "          % (calculateAccuracy(validTargetList, classifyList(predictedValidY)), \n",
    "             calculateAccuracy(testTargetList, classifyList(predictedTestY))))"
   ]
  }
 ],
 "metadata": {
  "kernelspec": {
   "display_name": "Python 3",
   "language": "python",
   "name": "python3"
  },
  "language_info": {
   "codemirror_mode": {
    "name": "ipython",
    "version": 3
   },
   "file_extension": ".py",
   "mimetype": "text/x-python",
   "name": "python",
   "nbconvert_exporter": "python",
   "pygments_lexer": "ipython3",
   "version": "3.6.3"
  }
 },
 "nbformat": 4,
 "nbformat_minor": 2
}
